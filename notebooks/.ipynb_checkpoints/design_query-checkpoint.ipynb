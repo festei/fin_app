{
 "cells": [
  {
   "cell_type": "code",
   "execution_count": null,
   "id": "30e7cd0e",
   "metadata": {},
   "outputs": [],
   "source": [
    "import sqlalchemy as sal\n",
    "from sqlalchemy.orm import Session\n",
    "from sqlalchemy.ext.automap import automap_base\n",
    "from sqlalchemy import MetaData, func\n",
    "\n",
    "import pandas as pd"
   ]
  },
  {
   "cell_type": "code",
   "execution_count": null,
   "id": "0fc0b10d",
   "metadata": {},
   "outputs": [],
   "source": [
    "URI = ''"
   ]
  },
  {
   "cell_type": "code",
   "execution_count": null,
   "id": "ff5a7eb8",
   "metadata": {},
   "outputs": [],
   "source": [
    "engine = sal.create_engine(URI)"
   ]
  },
  {
   "cell_type": "code",
   "execution_count": null,
   "id": "cf0be8aa",
   "metadata": {},
   "outputs": [],
   "source": [
    "metadata_public = MetaData(schema=\"fundamentals\")\n",
    "metadata_public.reflect(engine)\n",
    "inc_schema = automap_base(metadata=metadata_public)\n",
    "inc_schema.prepare()"
   ]
  },
  {
   "cell_type": "code",
   "execution_count": null,
   "id": "5e261c4c",
   "metadata": {},
   "outputs": [],
   "source": [
    "income = inc_schema.classes.income_annual"
   ]
  },
  {
   "cell_type": "code",
   "execution_count": null,
   "id": "ef9c5c23",
   "metadata": {},
   "outputs": [],
   "source": [
    "with Session(engine) as session:\n",
    "    query = session.query(income)"
   ]
  },
  {
   "cell_type": "code",
   "execution_count": null,
   "id": "22f37d26",
   "metadata": {},
   "outputs": [],
   "source": [
    "print(query.statement)"
   ]
  },
  {
   "cell_type": "code",
   "execution_count": null,
   "id": "db804152",
   "metadata": {},
   "outputs": [],
   "source": [
    "df = pd.read_sql(query.statement, query.session.bind)"
   ]
  },
  {
   "cell_type": "code",
   "execution_count": null,
   "id": "7214c5b5",
   "metadata": {},
   "outputs": [],
   "source": [
    "print(df.head())"
   ]
  },
  {
   "cell_type": "code",
   "execution_count": null,
   "id": "bcd016ab",
   "metadata": {},
   "outputs": [],
   "source": []
  }
 ],
 "metadata": {
  "kernelspec": {
   "display_name": "Python 3 (ipykernel)",
   "language": "python",
   "name": "python3"
  },
  "language_info": {
   "codemirror_mode": {
    "name": "ipython",
    "version": 3
   },
   "file_extension": ".py",
   "mimetype": "text/x-python",
   "name": "python",
   "nbconvert_exporter": "python",
   "pygments_lexer": "ipython3",
   "version": "3.8.0"
  }
 },
 "nbformat": 4,
 "nbformat_minor": 5
}
